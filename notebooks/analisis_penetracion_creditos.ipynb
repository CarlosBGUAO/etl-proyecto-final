{
 "cells": [
  {
   "cell_type": "markdown",
   "id": "6748ea0e",
   "metadata": {},
   "source": [
    "# Análisis Exploratorio: Penetración de Créditos en Factura de Gas"
   ]
  },
  {
   "cell_type": "code",
   "execution_count": null,
   "id": "2858c3dc",
   "metadata": {},
   "outputs": [],
   "source": [
    "\n",
    "import pandas as pd\n",
    "import numpy as np\n",
    "import matplotlib.pyplot as plt\n",
    "import seaborn as sns\n",
    "from datetime import datetime\n",
    "\n",
    "plt.style.use('ggplot')\n",
    "sns.set(style=\"whitegrid\")\n",
    "pd.set_option('display.max_columns', None)\n"
   ]
  },
  {
   "cell_type": "code",
   "execution_count": null,
   "id": "21e1dfbe",
   "metadata": {},
   "outputs": [],
   "source": [
    "# Cargar datasets\n",
    "df_pot = pd.read_csv('../data/datosFNB.csv', sep=';', encoding='ISO-8859-1')\n",
    "df_ven = pd.read_csv('../data/HistoricoVentas.csv', encoding='utf-8')\n",
    "df_res = pd.read_csv('../data/DatosResueltos.csv', sep=';', encoding='cp1252')"
   ]
  },
  {
   "cell_type": "code",
   "execution_count": null,
   "id": "2bb48751",
   "metadata": {},
   "outputs": [],
   "source": [
    "# Vista previa de los datos\n",
    "df_pot.head()"
   ]
  },
  {
   "cell_type": "code",
   "execution_count": null,
   "id": "f9b34bc4",
   "metadata": {},
   "outputs": [],
   "source": [
    "# Limpieza de potenciales\n",
    "def limpiar_potencial(df):\n",
    "    df['nombreDepartamento'] = df['nombreDepartamento'].str.upper()\n",
    "    df['municipio'] = df['municipio'].str.upper()\n",
    "    df['Cupo'] = pd.to_numeric(df['Cupo'], errors='coerce')\n",
    "    df['estrato'] = pd.to_numeric(df['estrato'], errors='coerce')\n",
    "    return df\n",
    "\n",
    "pot_clean = limpiar_potencial(df_pot)"
   ]
  },
  {
   "cell_type": "code",
   "execution_count": null,
   "id": "1b6c8343",
   "metadata": {},
   "outputs": [],
   "source": [
    "# Limpieza de ventas\n",
    "def limpiar_ventas(df):\n",
    "    df['fechaVenta'] = pd.to_datetime(df['fechaVenta'], errors='coerce')\n",
    "    df['nombreDepartamento'] = df['nombreDepartamento'].str.upper()\n",
    "    df['municipio'] = df['municipio'].str.upper()\n",
    "    df['valorTotal'] = pd.to_numeric(df['valorTotal'], errors='coerce')\n",
    "    return df[df['estadoVenta'] == 'Entregado']\n",
    "\n",
    "ven_clean = limpiar_ventas(df_ven)"
   ]
  },
  {
   "cell_type": "code",
   "execution_count": null,
   "id": "bf80d281",
   "metadata": {},
   "outputs": [],
   "source": [
    "# Análisis por distribuidora\n",
    "dist_pot = pot_clean.groupby('Distribuidora').agg(clientes_potenciales=('Codigo', 'count')).reset_index()\n",
    "dist_ven = ven_clean.groupby('Canal').agg(clientes_con_credito=('documentoUsuario', 'nunique')).reset_index()\n",
    "dist_ven.rename(columns={'Canal': 'Distribuidora'}, inplace=True)\n",
    "penetracion = pd.merge(dist_pot, dist_ven, on='Distribuidora', how='left')\n",
    "penetracion['tasa_penetracion'] = (penetracion['clientes_con_credito'] / penetracion['clientes_potenciales']) * 100\n",
    "penetracion"
   ]
  },
  {
   "cell_type": "code",
   "execution_count": null,
   "id": "d3a51659",
   "metadata": {},
   "outputs": [],
   "source": [
    "# Visualización de penetración por distribuidora\n",
    "plt.figure(figsize=(10,6))\n",
    "sns.barplot(data=penetracion, x='Distribuidora', y='tasa_penetracion')\n",
    "plt.title('Tasa de Penetración por Distribuidora')\n",
    "plt.show()"
   ]
  },
  {
   "cell_type": "code",
   "execution_count": null,
   "id": "a1b8ccb3",
   "metadata": {},
   "outputs": [],
   "source": [
    "# Análisis completado."
   ]
  }
 ],
 "metadata": {},
 "nbformat": 4,
 "nbformat_minor": 5
}
